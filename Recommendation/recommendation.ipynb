{
 "cells": [
  {
   "cell_type": "code",
   "execution_count": 1,
   "id": "1dc85b81",
   "metadata": {},
   "outputs": [],
   "source": [
    "import json\n",
    "from collections import defaultdict"
   ]
  },
  {
   "cell_type": "code",
   "execution_count": 2,
   "id": "08c59295",
   "metadata": {},
   "outputs": [],
   "source": [
    "with open(r\"Data\\ML&DS.json\", \"r\") as file:\n",
    "    courses = json.load(file)"
   ]
  },
  {
   "cell_type": "code",
   "execution_count": 3,
   "id": "1d817b3e",
   "metadata": {},
   "outputs": [],
   "source": [
    "def recommend_courses(course_list, all_courses):\n",
    "    if len(course_list) <= 3:\n",
    "        recs_per_course = 5\n",
    "    elif len(course_list) <= 8:\n",
    "        recs_per_course = 4\n",
    "    else:\n",
    "        recs_per_course = 3\n",
    "    course_dict = {course[\"_id\"]: (i, course) for i, course in enumerate(all_courses)}\n",
    "    purchased_courses = set(course_list)\n",
    "    \n",
    "    recommended_courses = []\n",
    "    recommended_ids = set()\n",
    "    for course_id in course_list:\n",
    "        if course_id not in course_dict:\n",
    "            continue\n",
    "            \n",
    "        source_idx, source_course = course_dict[course_id]\n",
    "        course_recommendations = []\n",
    "        for rank in [\"1\", \"2\", \"3\"]:\n",
    "            if len(course_recommendations) >= recs_per_course:\n",
    "                break\n",
    "                \n",
    "            source_tags = set(source_course[\"tags\"].get(rank, []))\n",
    "            if not source_tags:\n",
    "                continue\n",
    "            candidates = []\n",
    "            n = len(all_courses)\n",
    "            \n",
    "            for i in range(source_idx + 1, n):\n",
    "                course = all_courses[i]\n",
    "                if (course[\"_id\"] in purchased_courses or \n",
    "                    course[\"_id\"] in recommended_ids or\n",
    "                    course[\"_id\"] == course_id):\n",
    "                    continue\n",
    "                    \n",
    "                target_tags = set(course[\"tags\"].get(rank, []))\n",
    "                if source_tags & target_tags:\n",
    "                    candidates.append(course)\n",
    "            \n",
    "            if len(course_recommendations) < recs_per_course:\n",
    "                for i in range(0, source_idx):\n",
    "                    course = all_courses[i]\n",
    "                    if (course[\"_id\"] in purchased_courses or \n",
    "                        course[\"_id\"] in recommended_ids or\n",
    "                        course[\"_id\"] == course_id):\n",
    "                        continue\n",
    "                        \n",
    "                    target_tags = set(course[\"tags\"].get(rank, []))\n",
    "                    if source_tags & target_tags:\n",
    "                        candidates.append(course)\n",
    "            \n",
    "            for course in candidates:\n",
    "                if len(course_recommendations) >= recs_per_course:\n",
    "                    break\n",
    "                course_recommendations.append(course['title'])\n",
    "                recommended_ids.add(course[\"_id\"])\n",
    "        \n",
    "        recommended_courses.extend(course_recommendations)\n",
    "    \n",
    "    return recommended_courses"
   ]
  },
  {
   "cell_type": "code",
   "execution_count": 4,
   "id": "62740d7b",
   "metadata": {},
   "outputs": [],
   "source": [
    "course_list=[719,727,742,735]"
   ]
  },
  {
   "cell_type": "code",
   "execution_count": 5,
   "id": "12cbb048",
   "metadata": {},
   "outputs": [],
   "source": [
    "recommendations=recommend_courses(course_list,courses)"
   ]
  },
  {
   "cell_type": "code",
   "execution_count": null,
   "id": "8b858cd7",
   "metadata": {},
   "outputs": [],
   "source": [
    "print(recommendations)"
   ]
  }
 ],
 "metadata": {
  "kernelspec": {
   "display_name": "education",
   "language": "python",
   "name": "python3"
  },
  "language_info": {
   "codemirror_mode": {
    "name": "ipython",
    "version": 3
   },
   "file_extension": ".py",
   "mimetype": "text/x-python",
   "name": "python",
   "nbconvert_exporter": "python",
   "pygments_lexer": "ipython3",
   "version": "3.11.12"
  }
 },
 "nbformat": 4,
 "nbformat_minor": 5
}
