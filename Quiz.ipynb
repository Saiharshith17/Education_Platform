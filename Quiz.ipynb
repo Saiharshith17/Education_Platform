{
 "cells": [
  {
   "cell_type": "code",
   "execution_count": 12,
   "id": "bde9eb6f",
   "metadata": {},
   "outputs": [],
   "source": [
    "import os\n",
    "from dotenv import load_dotenv\n",
    "import warnings\n",
    "warnings.filterwarnings(\"ignore\")\n",
    "from langchain_groq import ChatGroq\n",
    "import json\n",
    "import re"
   ]
  },
  {
   "cell_type": "code",
   "execution_count": 13,
   "id": "277401f9",
   "metadata": {},
   "outputs": [
    {
     "data": {
      "text/plain": [
       "True"
      ]
     },
     "execution_count": 13,
     "metadata": {},
     "output_type": "execute_result"
    }
   ],
   "source": [
    "load_dotenv()"
   ]
  },
  {
   "cell_type": "code",
   "execution_count": 14,
   "id": "6957d644",
   "metadata": {},
   "outputs": [],
   "source": [
    "def get_llm():\n",
    "    model = ChatGroq(\n",
    "    model_name=\"llama-3.3-70b-versatile\",\n",
    "    temperature=0.3,\n",
    "    groq_api_key=os.getenv(\"GROQ_API_KEY\"))\n",
    "    return model"
   ]
  },
  {
   "cell_type": "code",
   "execution_count": 15,
   "id": "7fc7e319",
   "metadata": {},
   "outputs": [],
   "source": [
    "model=get_llm()"
   ]
  },
  {
   "cell_type": "code",
   "execution_count": 16,
   "id": "0c3ab2b1",
   "metadata": {},
   "outputs": [],
   "source": [
    "def chain():\n",
    "    system_prompt=\"\"\"You are an expert computer science educator and quiz designer.\n",
    "\n",
    "Generate a set of exactly **10 multiple-choice questions** (MCQs) for students learning the topic: **{topic_name}**.\n",
    "\n",
    "Follow these strict instructions:\n",
    "\n",
    "1. Cover a wide range of important **subtopics** from the given topic.\n",
    "2. The questions should be arranged by **difficulty level**:\n",
    "   - 3 Easy questions (basic concepts and definitions)\n",
    "   - 4 Medium questions (application-level, comparative questions)\n",
    "   - 3 Advanced questions (analysis, multi-step reasoning, real-world problem-solving)\n",
    "3. For each question, provide:\n",
    "   - The question text\n",
    "   - Exactly 4 answer options (labeled A, B, C, D)\n",
    "   - The correct option label\n",
    "   - A brief explanation of the correct answer\n",
    "\n",
    "4. Format your output strictly in this JSON structure:\n",
    "```json\n",
    "[\n",
    "  {{\n",
    "    \"level\": \"easy\",\n",
    "    \"question\": \"Your question here\",\n",
    "    \"options\": {{\n",
    "      \"A\": \"Option A\",\n",
    "      \"B\": \"Option B\",\n",
    "      \"C\": \"Option C\",\n",
    "      \"D\": \"Option D\"\n",
    "    }},\n",
    "    \"answer\": \"C\",\n",
    "    \"explanation\": \"Your explanation here\"\n",
    "  }},\n",
    "  ...\n",
    "]\n",
    "\"\"\"\n",
    "    return system_prompt"
   ]
  },
  {
   "cell_type": "code",
   "execution_count": 17,
   "id": "e035392b",
   "metadata": {},
   "outputs": [],
   "source": [
    "def cleaner(llm_response):\n",
    "    cleaned = re.sub(r\"```json|```\", \"\", llm_response).strip()\n",
    "    answer=json.loads(cleaned)\n",
    "    return answer"
   ]
  },
  {
   "cell_type": "code",
   "execution_count": 18,
   "id": "4bb6d3c2",
   "metadata": {},
   "outputs": [],
   "source": [
    "async def quiz_with_llm(llm,Topic):\n",
    "    sys_prompt=chain()\n",
    "    prompt=sys_prompt.format(topic_name=Topic)\n",
    "    result=await llm.ainvoke(prompt)\n",
    "    final_ans=cleaner(result.content)\n",
    "    return final_ans"
   ]
  },
  {
   "cell_type": "code",
   "execution_count": 19,
   "id": "cd5ee4a5",
   "metadata": {},
   "outputs": [],
   "source": [
    "response=await quiz_with_llm(model,\"Fundamentals of computers\")"
   ]
  },
  {
   "cell_type": "code",
   "execution_count": null,
   "id": "0ded67e5",
   "metadata": {},
   "outputs": [
    {
     "name": "stdout",
     "output_type": "stream",
     "text": [
      "[{'level': 'easy', 'question': 'What does CPU stand for in the context of computer hardware?', 'options': {'A': 'Central Processing Unit', 'B': 'Central Power Supply', 'C': 'Computer Processing Unit', 'D': 'Central Processing Utility'}, 'answer': 'A', 'explanation': 'CPU stands for Central Processing Unit, which is the primary component of a computer responsible for executing instructions and handling data processing.'}, {'level': 'easy', 'question': 'Which of the following is an example of output device?', 'options': {'A': 'Keyboard', 'B': 'Mouse', 'C': 'Monitor', 'D': 'Microphone'}, 'answer': 'C', 'explanation': 'A monitor is an output device that displays visual information from the computer, whereas keyboard, mouse, and microphone are input devices.'}, {'level': 'easy', 'question': 'What is the primary function of the operating system?', 'options': {'A': 'To provide application software', 'B': 'To manage computer hardware and provide a platform for running applications', 'C': 'To connect to the internet', 'D': 'To store data'}, 'answer': 'B', 'explanation': 'The primary function of the operating system is to manage computer hardware resources and provide a platform for running application software, making it a crucial component of a computer system.'}, {'level': 'medium', 'question': 'Which type of memory is volatile, meaning its contents are lost when the power is turned off?', 'options': {'A': 'RAM', 'B': 'ROM', 'C': 'Hard Drive', 'D': 'Solid State Drive'}, 'answer': 'A', 'explanation': 'RAM (Random Access Memory) is a type of volatile memory, meaning its contents are lost when the power is turned off, whereas ROM, hard drives, and solid state drives are non-volatile, retaining their data even when powered off.'}, {'level': 'medium', 'question': 'What is the difference between a bits and a byte?', 'options': {'A': 'A bit is a group of 8 binary digits, while a byte is a single binary digit', 'B': 'A bit is a single binary digit, while a byte is a group of 8 binary digits', 'C': 'A bit is used for storage, while a byte is used for processing', 'D': 'A bit is used for processing, while a byte is used for storage'}, 'answer': 'B', 'explanation': 'A bit is a single binary digit (0 or 1), while a byte is a group of 8 binary digits, making option B the correct answer.'}, {'level': 'medium', 'question': 'Which of the following is an advantage of using a solid-state drive (SSD) over a hard disk drive (HDD)?', 'options': {'A': 'Lower cost per gigabyte', 'B': 'Faster data access times', 'C': 'Higher storage capacity', 'D': 'Increased power consumption'}, 'answer': 'B', 'explanation': 'Solid-state drives (SSDs) have faster data access times compared to hard disk drives (HDDs), making them a popular choice for applications that require quick data retrieval.'}, {'level': 'medium', 'question': 'What is the purpose of a firewall in a computer network?', 'options': {'A': 'To increase network speed', 'B': 'To provide network security by blocking unauthorized access', 'C': 'To improve network reliability', 'D': 'To reduce network latency'}, 'answer': 'B', 'explanation': 'A firewall is a network security system that monitors and controls incoming and outgoing network traffic, blocking unauthorized access to protect the network from potential threats.'}, {'level': 'advanced', 'question': 'Suppose a computer has 4 GB of RAM and is running an operating system that uses 1 GB of RAM. If the user opens multiple applications that consume a total of 2 GB of RAM, what will happen to the system?', 'options': {'A': 'The system will run smoothly without any issues', 'B': 'The system will use virtual memory to allocate more RAM', 'C': 'The system will crash due to insufficient RAM', 'D': 'The system will automatically close some applications to free up RAM'}, 'answer': 'B', 'explanation': 'When the available RAM is insufficient, the system will use virtual memory, which is a combination of RAM and hard drive storage, to allocate more memory, allowing the applications to run but potentially slowing down the system.'}, {'level': 'advanced', 'question': 'A company has a computer network with 100 devices, and each device has a unique IP address. If the company wants to connect to the internet, what is the minimum number of public IP addresses required?', 'options': {'A': '1', 'B': '100', 'C': '1000', 'D': '10000'}, 'answer': 'A', 'explanation': 'With the use of Network Address Translation (NAT), a single public IP address can be shared among multiple devices on a private network, allowing all 100 devices to access the internet using just one public IP address.'}, {'level': 'advanced', 'question': 'What is the main difference between a 32-bit and a 64-bit operating system in terms of memory addressing?', 'options': {'A': 'A 32-bit OS can address more memory than a 64-bit OS', 'B': 'A 32-bit OS can address up to 4 GB of RAM, while a 64-bit OS can address more than 4 GB of RAM', 'C': 'A 32-bit OS is faster than a 64-bit OS', 'D': 'A 32-bit OS is more secure than a 64-bit OS'}, 'answer': 'B', 'explanation': 'A 32-bit operating system can address up to 4 GB of RAM, while a 64-bit operating system can address much more than 4 GB of RAM, making 64-bit OS more suitable for applications that require large amounts of memory.'}]\n"
     ]
    }
   ],
   "source": [
    "print(response)"
   ]
  }
 ],
 "metadata": {
  "kernelspec": {
   "display_name": "education",
   "language": "python",
   "name": "python3"
  },
  "language_info": {
   "codemirror_mode": {
    "name": "ipython",
    "version": 3
   },
   "file_extension": ".py",
   "mimetype": "text/x-python",
   "name": "python",
   "nbconvert_exporter": "python",
   "pygments_lexer": "ipython3",
   "version": "3.11.12"
  }
 },
 "nbformat": 4,
 "nbformat_minor": 5
}
